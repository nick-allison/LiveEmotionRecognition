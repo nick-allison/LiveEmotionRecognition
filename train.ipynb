{
  "cells": [
    {
      "cell_type": "code",
      "execution_count": 9,
      "metadata": {
        "colab": {
          "base_uri": "https://localhost:8080/"
        },
        "id": "3nK-VoczlELC",
        "outputId": "d553e6f4-87ef-4f45-b143-3dee7623d748"
      },
      "outputs": [],
      "source": [
        "import os\n",
        "import random\n",
        "import shutil\n",
        "import yaml\n",
        "from ultralytics import YOLO\n",
        "\n",
        "# Adjust these if your data is elsewhere:\n",
        "BASE_DIR = 'all_data'  # contains 8 subfolders of 48×48 grayscale images\n",
        "TRAIN_DIR = 'all_data/train'\n",
        "VAL_DIR   = 'all_data/val'"
      ]
    },
    {
      "cell_type": "code",
      "execution_count": null,
      "metadata": {},
      "outputs": [],
      "source": [
        "DEVICE = 'mps' #FOR M1 MAC, change to 'cuda' for nvidia GPUs or 'cpu' for no GPU"
      ]
    },
    {
      "cell_type": "code",
      "execution_count": 11,
      "metadata": {
        "colab": {
          "base_uri": "https://localhost:8080/"
        },
        "id": "Mtwa6zyVq6-A",
        "outputId": "c0c565da-3be0-44c7-8aab-950f69960a4d"
      },
      "outputs": [
        {
          "name": "stdout",
          "output_type": "stream",
          "text": [
            "['happy', 'sad', 'fear', 'surprise', 'neutral', 'ahegao', 'angry', 'disgust']\n"
          ]
        }
      ],
      "source": [
        "classes = [i for i in os.listdir(\"all_data/train\") if i[0] != '.']\n",
        "print(classes)"
      ]
    },
    {
      "cell_type": "code",
      "execution_count": 12,
      "metadata": {
        "colab": {
          "base_uri": "https://localhost:8080/"
        },
        "id": "M1bsAabelJmL",
        "outputId": "f4f548c3-b9c0-4809-a9a5-9a82aab1aa9f"
      },
      "outputs": [
        {
          "name": "stdout",
          "output_type": "stream",
          "text": [
            "Wrote data.yaml:\n",
            "names:\n",
            "- happy\n",
            "- sad\n",
            "- fear\n",
            "- surprise\n",
            "- neutral\n",
            "- ahegao\n",
            "- angry\n",
            "- disgust\n",
            "nc: 8\n",
            "train: all_data/train\n",
            "val: all_data/val\n",
            "\n"
          ]
        }
      ],
      "source": [
        "data_config = {\n",
        "    'train': TRAIN_DIR,\n",
        "    'val':   VAL_DIR,\n",
        "    'nc':    len(classes),\n",
        "    'names': classes\n",
        "}\n",
        "with open('data.yaml', 'w') as f:\n",
        "    yaml.dump(data_config, f)\n",
        "\n",
        "print(\"Wrote data.yaml:\")\n",
        "print(open('data.yaml').read())"
      ]
    },
    {
      "cell_type": "code",
      "execution_count": 14,
      "metadata": {
        "colab": {
          "base_uri": "https://localhost:8080/"
        },
        "id": "ogDwtdOtlLet",
        "outputId": "7128aaf2-80d4-457b-f7a7-5818bd5162fc"
      },
      "outputs": [
        {
          "name": "stdout",
          "output_type": "stream",
          "text": [
            "New https://pypi.org/project/ultralytics/8.3.115 available 😃 Update with 'pip install -U ultralytics'\n",
            "Ultralytics 8.3.114 🚀 Python-3.11.11 torch-2.6.0 MPS (Apple M1 Pro)\n",
            "\u001b[34m\u001b[1mengine/trainer: \u001b[0mtask=classify, mode=train, model=yolov8n-cls.pt, data=all_data, epochs=20, time=None, patience=100, batch=64, imgsz=48, save=True, save_period=1, cache=False, device=mps, workers=2, project=None, name=emotion_clf_mps_new_1, exist_ok=False, pretrained=True, optimizer=auto, verbose=True, seed=0, deterministic=True, single_cls=False, rect=False, cos_lr=False, close_mosaic=10, resume=False, amp=True, fraction=1.0, profile=False, freeze=None, multi_scale=False, overlap_mask=True, mask_ratio=4, dropout=0.0, val=True, split=val, save_json=False, conf=None, iou=0.7, max_det=300, half=False, dnn=False, plots=True, source=None, vid_stride=1, stream_buffer=False, visualize=False, augment=False, agnostic_nms=False, classes=None, retina_masks=False, embed=None, show=False, save_frames=False, save_txt=False, save_conf=False, save_crop=False, show_labels=True, show_conf=True, show_boxes=True, line_width=None, format=torchscript, keras=False, optimize=False, int8=False, dynamic=False, simplify=True, opset=None, workspace=None, nms=False, lr0=0.01, lrf=0.01, momentum=0.937, weight_decay=0.0005, warmup_epochs=3.0, warmup_momentum=0.8, warmup_bias_lr=0.1, box=7.5, cls=0.5, dfl=1.5, pose=12.0, kobj=1.0, nbs=64, hsv_h=0.015, hsv_s=0.7, hsv_v=0.4, degrees=0.0, translate=0.1, scale=0.5, shear=0.0, perspective=0.0, flipud=0.0, fliplr=0.5, bgr=0.0, mosaic=1.0, mixup=0.0, copy_paste=0.0, copy_paste_mode=flip, auto_augment=randaugment, erasing=0.4, cfg=None, tracker=botsort.yaml, save_dir=runs/classify/emotion_clf_mps_new_1\n",
            "\u001b[34m\u001b[1mtrain:\u001b[0m /Users/nickallison/Documents/emotion/all_data/train... found 196000 images in 8 classes ✅ \n",
            "\u001b[34m\u001b[1mval:\u001b[0m /Users/nickallison/Documents/emotion/all_data/val... found 49176 images in 8 classes ✅ \n",
            "\u001b[34m\u001b[1mtest:\u001b[0m None...\n",
            "Overriding model.yaml nc=1000 with nc=8\n",
            "\n",
            "                   from  n    params  module                                       arguments                     \n",
            "  0                  -1  1       464  ultralytics.nn.modules.conv.Conv             [3, 16, 3, 2]                 \n",
            "  1                  -1  1      4672  ultralytics.nn.modules.conv.Conv             [16, 32, 3, 2]                \n",
            "  2                  -1  1      7360  ultralytics.nn.modules.block.C2f             [32, 32, 1, True]             \n",
            "  3                  -1  1     18560  ultralytics.nn.modules.conv.Conv             [32, 64, 3, 2]                \n",
            "  4                  -1  2     49664  ultralytics.nn.modules.block.C2f             [64, 64, 2, True]             \n",
            "  5                  -1  1     73984  ultralytics.nn.modules.conv.Conv             [64, 128, 3, 2]               \n",
            "  6                  -1  2    197632  ultralytics.nn.modules.block.C2f             [128, 128, 2, True]           \n",
            "  7                  -1  1    295424  ultralytics.nn.modules.conv.Conv             [128, 256, 3, 2]              \n",
            "  8                  -1  1    460288  ultralytics.nn.modules.block.C2f             [256, 256, 1, True]           \n",
            "  9                  -1  1    340488  ultralytics.nn.modules.head.Classify         [256, 8]                      \n",
            "YOLOv8n-cls summary: 56 layers, 1,448,536 parameters, 1,448,536 gradients, 3.4 GFLOPs\n",
            "Transferred 156/158 items from pretrained weights\n",
            "WARNING ⚠️ imgsz=[48] must be multiple of max stride 32, updating to [64]\n",
            "\u001b[34m\u001b[1mtrain: \u001b[0mFast image access ✅ (ping: 0.3±0.7 ms, read: 11.8±6.4 MB/s, size: 1.7 KB)\n"
          ]
        },
        {
          "name": "stderr",
          "output_type": "stream",
          "text": [
            "\u001b[34m\u001b[1mtrain: \u001b[0mScanning /Users/nickallison/Documents/emotion/all_data/train... 196000 images, 0 corrupt: 100%|██████████| 196000/196000 [00:00<?, ?it/s]\n"
          ]
        },
        {
          "name": "stdout",
          "output_type": "stream",
          "text": [
            "\u001b[34m\u001b[1mval: \u001b[0mFast image access ✅ (ping: 0.3±0.6 ms, read: 10.6±5.5 MB/s, size: 1.6 KB)\n"
          ]
        },
        {
          "name": "stderr",
          "output_type": "stream",
          "text": [
            "\u001b[34m\u001b[1mval: \u001b[0mScanning /Users/nickallison/Documents/emotion/all_data/val... 49176 images, 0 corrupt: 100%|██████████| 49176/49176 [00:00<?, ?it/s]"
          ]
        },
        {
          "name": "stdout",
          "output_type": "stream",
          "text": [
            "\u001b[34m\u001b[1moptimizer:\u001b[0m 'optimizer=auto' found, ignoring 'lr0=0.01' and 'momentum=0.937' and determining best 'optimizer', 'lr0' and 'momentum' automatically... \n",
            "\u001b[34m\u001b[1moptimizer:\u001b[0m SGD(lr=0.01, momentum=0.9) with parameter groups 26 weight(decay=0.0), 27 weight(decay=0.0005), 27 bias(decay=0.0)\n",
            "Image sizes 64 train, 64 val\n",
            "Using 0 dataloader workers\n",
            "Logging results to \u001b[1mruns/classify/emotion_clf_mps_new_1\u001b[0m\n",
            "Starting training for 20 epochs...\n",
            "\n",
            "      Epoch    GPU_mem       loss  Instances       Size\n"
          ]
        },
        {
          "name": "stderr",
          "output_type": "stream",
          "text": [
            "\n",
            "       1/20     0.241G      1.641         32         64: 100%|██████████| 3063/3063 [07:18<00:00,  6.99it/s]\n",
            "               classes   top1_acc   top5_acc: 100%|██████████| 385/385 [00:28<00:00, 13.48it/s]"
          ]
        },
        {
          "name": "stdout",
          "output_type": "stream",
          "text": [
            "                   all      0.434      0.938\n"
          ]
        },
        {
          "name": "stderr",
          "output_type": "stream",
          "text": [
            "\n"
          ]
        },
        {
          "name": "stdout",
          "output_type": "stream",
          "text": [
            "\n",
            "      Epoch    GPU_mem       loss  Instances       Size\n"
          ]
        },
        {
          "name": "stderr",
          "output_type": "stream",
          "text": [
            "       2/20     0.249G      1.281         32         64: 100%|██████████| 3063/3063 [07:27<00:00,  6.85it/s]\n",
            "               classes   top1_acc   top5_acc: 100%|██████████| 385/385 [00:28<00:00, 13.38it/s]"
          ]
        },
        {
          "name": "stdout",
          "output_type": "stream",
          "text": [
            "                   all      0.541      0.967\n"
          ]
        },
        {
          "name": "stderr",
          "output_type": "stream",
          "text": [
            "\n"
          ]
        },
        {
          "name": "stdout",
          "output_type": "stream",
          "text": [
            "\n",
            "      Epoch    GPU_mem       loss  Instances       Size\n"
          ]
        },
        {
          "name": "stderr",
          "output_type": "stream",
          "text": [
            "       3/20     0.249G      1.122         32         64: 100%|██████████| 3063/3063 [07:46<00:00,  6.57it/s]\n",
            "               classes   top1_acc   top5_acc: 100%|██████████| 385/385 [00:29<00:00, 13.11it/s]"
          ]
        },
        {
          "name": "stdout",
          "output_type": "stream",
          "text": [
            "                   all      0.603       0.98\n"
          ]
        },
        {
          "name": "stderr",
          "output_type": "stream",
          "text": [
            "\n"
          ]
        },
        {
          "name": "stdout",
          "output_type": "stream",
          "text": [
            "\n",
            "      Epoch    GPU_mem       loss  Instances       Size\n"
          ]
        },
        {
          "name": "stderr",
          "output_type": "stream",
          "text": [
            "       4/20     0.245G      1.045         32         64: 100%|██████████| 3063/3063 [07:46<00:00,  6.57it/s]\n",
            "               classes   top1_acc   top5_acc: 100%|██████████| 385/385 [00:29<00:00, 12.95it/s]"
          ]
        },
        {
          "name": "stdout",
          "output_type": "stream",
          "text": [
            "                   all      0.628       0.98\n"
          ]
        },
        {
          "name": "stderr",
          "output_type": "stream",
          "text": [
            "\n"
          ]
        },
        {
          "name": "stdout",
          "output_type": "stream",
          "text": [
            "\n",
            "      Epoch    GPU_mem       loss  Instances       Size\n"
          ]
        },
        {
          "name": "stderr",
          "output_type": "stream",
          "text": [
            "       5/20     0.249G      0.986         32         64: 100%|██████████| 3063/3063 [07:52<00:00,  6.49it/s]\n",
            "               classes   top1_acc   top5_acc: 100%|██████████| 385/385 [00:29<00:00, 13.09it/s]"
          ]
        },
        {
          "name": "stdout",
          "output_type": "stream",
          "text": [
            "                   all      0.633      0.981\n"
          ]
        },
        {
          "name": "stderr",
          "output_type": "stream",
          "text": [
            "\n"
          ]
        },
        {
          "name": "stdout",
          "output_type": "stream",
          "text": [
            "\n",
            "      Epoch    GPU_mem       loss  Instances       Size\n"
          ]
        },
        {
          "name": "stderr",
          "output_type": "stream",
          "text": [
            "       6/20     0.249G     0.9595         32         64: 100%|██████████| 3063/3063 [07:38<00:00,  6.67it/s]\n",
            "               classes   top1_acc   top5_acc: 100%|██████████| 385/385 [00:29<00:00, 13.15it/s]"
          ]
        },
        {
          "name": "stdout",
          "output_type": "stream",
          "text": [
            "                   all      0.643      0.983\n"
          ]
        },
        {
          "name": "stderr",
          "output_type": "stream",
          "text": [
            "\n"
          ]
        },
        {
          "name": "stdout",
          "output_type": "stream",
          "text": [
            "\n",
            "      Epoch    GPU_mem       loss  Instances       Size\n"
          ]
        },
        {
          "name": "stderr",
          "output_type": "stream",
          "text": [
            "       7/20     0.249G     0.9358         32         64: 100%|██████████| 3063/3063 [07:40<00:00,  6.65it/s]\n",
            "               classes   top1_acc   top5_acc: 100%|██████████| 385/385 [00:29<00:00, 13.10it/s]"
          ]
        },
        {
          "name": "stdout",
          "output_type": "stream",
          "text": [
            "                   all      0.651      0.984\n"
          ]
        },
        {
          "name": "stderr",
          "output_type": "stream",
          "text": [
            "\n"
          ]
        },
        {
          "name": "stdout",
          "output_type": "stream",
          "text": [
            "\n",
            "      Epoch    GPU_mem       loss  Instances       Size\n"
          ]
        },
        {
          "name": "stderr",
          "output_type": "stream",
          "text": [
            "       8/20     0.249G     0.9155         32         64: 100%|██████████| 3063/3063 [07:44<00:00,  6.60it/s]\n",
            "               classes   top1_acc   top5_acc: 100%|██████████| 385/385 [00:28<00:00, 13.28it/s]"
          ]
        },
        {
          "name": "stdout",
          "output_type": "stream",
          "text": [
            "                   all      0.654      0.984\n"
          ]
        },
        {
          "name": "stderr",
          "output_type": "stream",
          "text": [
            "\n"
          ]
        },
        {
          "name": "stdout",
          "output_type": "stream",
          "text": [
            "\n",
            "      Epoch    GPU_mem       loss  Instances       Size\n"
          ]
        },
        {
          "name": "stderr",
          "output_type": "stream",
          "text": [
            "       9/20     0.249G      0.899         32         64: 100%|██████████| 3063/3063 [07:44<00:00,  6.60it/s]\n",
            "               classes   top1_acc   top5_acc: 100%|██████████| 385/385 [00:29<00:00, 13.26it/s]"
          ]
        },
        {
          "name": "stdout",
          "output_type": "stream",
          "text": [
            "                   all      0.657      0.984\n"
          ]
        },
        {
          "name": "stderr",
          "output_type": "stream",
          "text": [
            "\n"
          ]
        },
        {
          "name": "stdout",
          "output_type": "stream",
          "text": [
            "\n",
            "      Epoch    GPU_mem       loss  Instances       Size\n"
          ]
        },
        {
          "name": "stderr",
          "output_type": "stream",
          "text": [
            "      10/20     0.249G     0.8795         32         64: 100%|██████████| 3063/3063 [07:37<00:00,  6.69it/s]\n",
            "               classes   top1_acc   top5_acc: 100%|██████████| 385/385 [00:29<00:00, 13.23it/s]"
          ]
        },
        {
          "name": "stdout",
          "output_type": "stream",
          "text": [
            "                   all       0.66      0.984\n"
          ]
        },
        {
          "name": "stderr",
          "output_type": "stream",
          "text": [
            "\n"
          ]
        },
        {
          "name": "stdout",
          "output_type": "stream",
          "text": [
            "\n",
            "      Epoch    GPU_mem       loss  Instances       Size\n"
          ]
        },
        {
          "name": "stderr",
          "output_type": "stream",
          "text": [
            "      11/20     0.249G     0.8594         32         64: 100%|██████████| 3063/3063 [07:36<00:00,  6.71it/s]\n",
            "               classes   top1_acc   top5_acc: 100%|██████████| 385/385 [00:29<00:00, 13.14it/s]"
          ]
        },
        {
          "name": "stdout",
          "output_type": "stream",
          "text": [
            "                   all      0.664      0.983\n"
          ]
        },
        {
          "name": "stderr",
          "output_type": "stream",
          "text": [
            "\n"
          ]
        },
        {
          "name": "stdout",
          "output_type": "stream",
          "text": [
            "\n",
            "      Epoch    GPU_mem       loss  Instances       Size\n"
          ]
        },
        {
          "name": "stderr",
          "output_type": "stream",
          "text": [
            "      12/20     0.245G     0.8404         32         64: 100%|██████████| 3063/3063 [07:38<00:00,  6.68it/s]\n",
            "               classes   top1_acc   top5_acc: 100%|██████████| 385/385 [00:29<00:00, 13.14it/s]"
          ]
        },
        {
          "name": "stdout",
          "output_type": "stream",
          "text": [
            "                   all      0.667      0.983\n"
          ]
        },
        {
          "name": "stderr",
          "output_type": "stream",
          "text": [
            "\n"
          ]
        },
        {
          "name": "stdout",
          "output_type": "stream",
          "text": [
            "\n",
            "      Epoch    GPU_mem       loss  Instances       Size\n"
          ]
        },
        {
          "name": "stderr",
          "output_type": "stream",
          "text": [
            "      13/20     0.249G     0.8174         32         64: 100%|██████████| 3063/3063 [07:51<00:00,  6.50it/s]\n",
            "               classes   top1_acc   top5_acc: 100%|██████████| 385/385 [00:31<00:00, 12.26it/s]"
          ]
        },
        {
          "name": "stdout",
          "output_type": "stream",
          "text": [
            "                   all      0.669      0.982\n"
          ]
        },
        {
          "name": "stderr",
          "output_type": "stream",
          "text": [
            "\n"
          ]
        },
        {
          "name": "stdout",
          "output_type": "stream",
          "text": [
            "\n",
            "      Epoch    GPU_mem       loss  Instances       Size\n"
          ]
        },
        {
          "name": "stderr",
          "output_type": "stream",
          "text": [
            "      14/20     0.249G     0.7951         32         64: 100%|██████████| 3063/3063 [07:52<00:00,  6.49it/s]\n",
            "               classes   top1_acc   top5_acc: 100%|██████████| 385/385 [00:31<00:00, 12.29it/s]"
          ]
        },
        {
          "name": "stdout",
          "output_type": "stream",
          "text": [
            "                   all      0.671      0.982\n"
          ]
        },
        {
          "name": "stderr",
          "output_type": "stream",
          "text": [
            "\n"
          ]
        },
        {
          "name": "stdout",
          "output_type": "stream",
          "text": [
            "\n",
            "      Epoch    GPU_mem       loss  Instances       Size\n"
          ]
        },
        {
          "name": "stderr",
          "output_type": "stream",
          "text": [
            "      15/20     0.249G     0.7698         32         64: 100%|██████████| 3063/3063 [07:46<00:00,  6.56it/s]\n",
            "               classes   top1_acc   top5_acc: 100%|██████████| 385/385 [00:31<00:00, 12.37it/s]"
          ]
        },
        {
          "name": "stdout",
          "output_type": "stream",
          "text": [
            "                   all      0.673      0.982\n"
          ]
        },
        {
          "name": "stderr",
          "output_type": "stream",
          "text": [
            "\n"
          ]
        },
        {
          "name": "stdout",
          "output_type": "stream",
          "text": [
            "\n",
            "      Epoch    GPU_mem       loss  Instances       Size\n"
          ]
        },
        {
          "name": "stderr",
          "output_type": "stream",
          "text": [
            "      16/20     0.249G     0.7416         32         64: 100%|██████████| 3063/3063 [07:48<00:00,  6.53it/s]\n",
            "               classes   top1_acc   top5_acc: 100%|██████████| 385/385 [00:30<00:00, 12.61it/s]"
          ]
        },
        {
          "name": "stdout",
          "output_type": "stream",
          "text": [
            "                   all      0.674      0.982\n"
          ]
        },
        {
          "name": "stderr",
          "output_type": "stream",
          "text": [
            "\n"
          ]
        },
        {
          "name": "stdout",
          "output_type": "stream",
          "text": [
            "\n",
            "      Epoch    GPU_mem       loss  Instances       Size\n"
          ]
        },
        {
          "name": "stderr",
          "output_type": "stream",
          "text": [
            "      17/20     0.245G      0.707         32         64: 100%|██████████| 3063/3063 [07:37<00:00,  6.69it/s]\n",
            "               classes   top1_acc   top5_acc: 100%|██████████| 385/385 [00:30<00:00, 12.62it/s]"
          ]
        },
        {
          "name": "stdout",
          "output_type": "stream",
          "text": [
            "                   all      0.676      0.982\n"
          ]
        },
        {
          "name": "stderr",
          "output_type": "stream",
          "text": [
            "\n"
          ]
        },
        {
          "name": "stdout",
          "output_type": "stream",
          "text": [
            "\n",
            "      Epoch    GPU_mem       loss  Instances       Size\n"
          ]
        },
        {
          "name": "stderr",
          "output_type": "stream",
          "text": [
            "      18/20     0.249G     0.6751         32         64: 100%|██████████| 3063/3063 [07:38<00:00,  6.68it/s]\n",
            "               classes   top1_acc   top5_acc: 100%|██████████| 385/385 [00:30<00:00, 12.71it/s]"
          ]
        },
        {
          "name": "stdout",
          "output_type": "stream",
          "text": [
            "                   all      0.678      0.981\n"
          ]
        },
        {
          "name": "stderr",
          "output_type": "stream",
          "text": [
            "\n"
          ]
        },
        {
          "name": "stdout",
          "output_type": "stream",
          "text": [
            "\n",
            "      Epoch    GPU_mem       loss  Instances       Size\n"
          ]
        },
        {
          "name": "stderr",
          "output_type": "stream",
          "text": [
            "      19/20     0.249G     0.6373         32         64: 100%|██████████| 3063/3063 [07:37<00:00,  6.69it/s]\n",
            "               classes   top1_acc   top5_acc: 100%|██████████| 385/385 [00:29<00:00, 12.86it/s]"
          ]
        },
        {
          "name": "stdout",
          "output_type": "stream",
          "text": [
            "                   all       0.68      0.981\n"
          ]
        },
        {
          "name": "stderr",
          "output_type": "stream",
          "text": [
            "\n"
          ]
        },
        {
          "name": "stdout",
          "output_type": "stream",
          "text": [
            "\n",
            "      Epoch    GPU_mem       loss  Instances       Size\n"
          ]
        },
        {
          "name": "stderr",
          "output_type": "stream",
          "text": [
            "      20/20     0.245G     0.5942         32         64: 100%|██████████| 3063/3063 [06:45<00:00,  7.55it/s]\n",
            "               classes   top1_acc   top5_acc: 100%|██████████| 385/385 [00:22<00:00, 16.89it/s]\n"
          ]
        },
        {
          "name": "stdout",
          "output_type": "stream",
          "text": [
            "                   all      0.681       0.98\n",
            "\n",
            "20 epochs completed in 2.717 hours.\n",
            "Optimizer stripped from runs/classify/emotion_clf_mps_new_1/weights/last.pt, 3.0MB\n",
            "Optimizer stripped from runs/classify/emotion_clf_mps_new_1/weights/best.pt, 3.0MB\n",
            "\n",
            "Validating runs/classify/emotion_clf_mps_new_1/weights/best.pt...\n",
            "Ultralytics 8.3.114 🚀 Python-3.11.11 torch-2.6.0 MPS (Apple M1 Pro)\n",
            "YOLOv8n-cls summary (fused): 30 layers, 1,445,128 parameters, 0 gradients, 3.3 GFLOPs\n",
            "\u001b[34m\u001b[1mtrain:\u001b[0m /Users/nickallison/Documents/emotion/all_data/train... found 196000 images in 8 classes ✅ \n",
            "\u001b[34m\u001b[1mval:\u001b[0m /Users/nickallison/Documents/emotion/all_data/val... found 49176 images in 8 classes ✅ \n",
            "\u001b[34m\u001b[1mtest:\u001b[0m None...\n"
          ]
        },
        {
          "name": "stderr",
          "output_type": "stream",
          "text": [
            "               classes   top1_acc   top5_acc: 100%|██████████| 385/385 [00:20<00:00, 18.59it/s]\n"
          ]
        },
        {
          "name": "stdout",
          "output_type": "stream",
          "text": [
            "                   all      0.681       0.98\n",
            "Speed: 0.0ms preprocess, 0.0ms inference, 0.0ms loss, 0.0ms postprocess per image\n",
            "Results saved to \u001b[1mruns/classify/emotion_clf_mps_new_1\u001b[0m\n"
          ]
        }
      ],
      "source": [
        "model = YOLO('yolov8n-cls.pt')\n",
        "history = model.train(\n",
        "    data=BASE_DIR,    # our config\n",
        "    epochs=20,           # number of passes over data\n",
        "    batch=64,            # batch size (keep < GPU mem)\n",
        "    imgsz=48,            # your input size (48×48)\n",
        "    device=DEVICE,        \n",
        "    workers=2,           # dataloader workers\n",
        "    save=True,\n",
        "    save_period=1,\n",
        "    name='emotion_clf'   # output folder: runs/classify/emotion_clf\n",
        ")"
      ]
    },
    {
      "cell_type": "code",
      "execution_count": 7,
      "metadata": {
        "id": "8EN8c56mlOMS"
      },
      "outputs": [
        {
          "name": "stdout",
          "output_type": "stream",
          "text": [
            "Ultralytics 8.3.114 🚀 Python-3.11.11 torch-2.6.0 MPS (Apple M1 Pro)\n",
            "YOLOv8n-cls summary (fused): 30 layers, 1,445,128 parameters, 0 gradients, 3.3 GFLOPs\n",
            "\u001b[34m\u001b[1mtrain:\u001b[0m /Users/nickallison/Documents/emotion/data_dir/train... found 152662 images in 8 classes ✅ \n",
            "\u001b[34m\u001b[1mval:\u001b[0m /Users/nickallison/Documents/emotion/data_dir/val... found 38170 images in 8 classes ✅ \n",
            "\u001b[34m\u001b[1mtest:\u001b[0m None...\n",
            "\u001b[34m\u001b[1mval: \u001b[0mFast image access ✅ (ping: 0.0±0.0 ms, read: 12.0±9.8 MB/s, size: 1.5 KB)\n"
          ]
        },
        {
          "name": "stderr",
          "output_type": "stream",
          "text": [
            "\u001b[34m\u001b[1mval: \u001b[0mScanning /Users/nickallison/Documents/emotion/data_dir/val... 38170 images, 0 corrupt: 100%|██████████| 38170/38170 [00:00<?, ?it/s]\n",
            "               classes   top1_acc   top5_acc: 100%|██████████| 597/597 [00:19<00:00, 31.30it/s]\n"
          ]
        },
        {
          "name": "stdout",
          "output_type": "stream",
          "text": [
            "                   all      0.947          1\n",
            "Speed: 0.0ms preprocess, 0.1ms inference, 0.0ms loss, 0.0ms postprocess per image\n",
            "Results saved to \u001b[1mruns/classify/emotion_clf_mps22\u001b[0m\n",
            "ultralytics.utils.metrics.ClassifyMetrics object with attributes:\n",
            "\n",
            "confusion_matrix: <ultralytics.utils.metrics.ConfusionMatrix object at 0x4d2350310>\n",
            "curves: []\n",
            "curves_results: []\n",
            "fitness: 0.9734870195388794\n",
            "keys: ['metrics/accuracy_top1', 'metrics/accuracy_top5']\n",
            "results_dict: {'metrics/accuracy_top1': 0.9470264315605164, 'metrics/accuracy_top5': 0.9999476075172424, 'fitness': 0.9734870195388794}\n",
            "save_dir: PosixPath('runs/classify/emotion_clf_mps22')\n",
            "speed: {'preprocess': 0.00940807694355126, 'inference': 0.05753081694990982, 'loss': 5.956904843468136e-06, 'postprocess': 2.1457455308184626e-05}\n",
            "task: 'classify'\n",
            "top1: 0.9470264315605164\n",
            "top5: 0.9999476075172424\n"
          ]
        }
      ],
      "source": [
        "metrics = model.val()\n",
        "print(metrics)\n",
        "# You’ll see accuracy, precision, recall, F1 per class, etc."
      ]
    }
  ],
  "metadata": {
    "accelerator": "GPU",
    "colab": {
      "gpuType": "T4",
      "machine_shape": "hm",
      "provenance": []
    },
    "kernelspec": {
      "display_name": "venv",
      "language": "python",
      "name": "python3"
    },
    "language_info": {
      "codemirror_mode": {
        "name": "ipython",
        "version": 3
      },
      "file_extension": ".py",
      "mimetype": "text/x-python",
      "name": "python",
      "nbconvert_exporter": "python",
      "pygments_lexer": "ipython3",
      "version": "3.14.0a3"
    }
  },
  "nbformat": 4,
  "nbformat_minor": 0
}
