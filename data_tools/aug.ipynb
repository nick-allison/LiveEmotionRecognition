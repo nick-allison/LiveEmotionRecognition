{
 "cells": [
  {
   "cell_type": "code",
   "execution_count": 8,
   "metadata": {},
   "outputs": [],
   "source": [
    "import os\n",
    "import random\n",
    "from PIL import Image, ImageOps, ImageEnhance\n",
    "import math"
   ]
  },
  {
   "cell_type": "code",
   "execution_count": 6,
   "metadata": {},
   "outputs": [],
   "source": [
    "def flipAug(dir, pct=1):\n",
    "        all_files = [f for f in os.listdir(dir)\n",
    "                if f.lower().endswith(('.png', '.jpg', '.jpeg', '.bmp', '.gif'))]\n",
    "\n",
    "        num_files = math.ceil(len(all_files) * pct)    \n",
    "\n",
    "        files = random.sample(all_files, num_files)\n",
    "\n",
    "        for fname in files:\n",
    "                name, ext = os.path.splitext(fname)\n",
    "                input_path = os.path.join(dir, fname)\n",
    "\n",
    "                try:\n",
    "                        with Image.open(input_path) as img:\n",
    "                                # Flip the image horizontally\n",
    "                                flipped_img = ImageOps.mirror(img)\n",
    "                                flipped_img.save(os.path.join(dir, f\"{name}_flipped{ext}\"))\n",
    "\n",
    "                except Exception as e:\n",
    "                        print(f\"Error flipping {input_path}: {e}\")"
   ]
  },
  {
   "cell_type": "code",
   "execution_count": 5,
   "metadata": {},
   "outputs": [],
   "source": [
    "def rotAug(dir, pct=1, max_angle=30, iters = 1):\n",
    "    all_files = [f for f in os.listdir(dir)\n",
    "                if f.lower().endswith(('.png', '.jpg', '.jpeg', '.bmp', '.gif'))]\n",
    "\n",
    "    num_files = math.ceil(len(all_files) * pct)\n",
    "    files = random.sample(all_files, num_files)\n",
    "    for fname in files:\n",
    "        name, ext = os.path.splitext(fname)\n",
    "        input_path = os.path.join(dir, fname)\n",
    "\n",
    "        try:\n",
    "            with Image.open(input_path) as img:\n",
    "                for i in range(iters):\n",
    "                    angle = random.uniform(-max_angle, max_angle)\n",
    "                    rotated_img = img.rotate(angle, resample=Image.BILINEAR)\n",
    "                    rotated_img.save(os.path.join(dir, f\"{name}_rot{i+1}{ext}\"))\n",
    "\n",
    "        except Exception as e:\n",
    "            print(f\"Error rotating {input_path}: {e}\")"
   ]
  },
  {
   "cell_type": "code",
   "execution_count": 1,
   "metadata": {},
   "outputs": [],
   "source": [
    "import os\n",
    "import math\n",
    "import random\n",
    "from PIL import Image\n",
    "\n",
    "def transAug(dir, pct=1, max_shift=10, iters=1):\n",
    "    \"\"\"\n",
    "    Apply random translations to a subset of images in `dir`.\n",
    "\n",
    "    Args:\n",
    "        dir (str): Directory containing images.\n",
    "        pct (float): Fraction of images to augment (0 < pct ≤ 1).\n",
    "        max_shift (int or float): Maximum pixel shift in x and y directions.\n",
    "        iters (int): Number of augmented copies per image.\n",
    "    \"\"\"\n",
    "    # gather image files\n",
    "    all_files = [\n",
    "        f for f in os.listdir(dir)\n",
    "        if f.lower().endswith(('.png', '.jpg', '.jpeg', '.bmp', '.gif'))\n",
    "    ]\n",
    "    # determine how many to augment\n",
    "    num_files = math.ceil(len(all_files) * pct)\n",
    "    files = random.sample(all_files, num_files)\n",
    "\n",
    "    for fname in files:\n",
    "        name, ext = os.path.splitext(fname)\n",
    "        input_path = os.path.join(dir, fname)\n",
    "\n",
    "        try:\n",
    "            with Image.open(input_path) as img:\n",
    "                width, height = img.size\n",
    "\n",
    "                for i in range(iters):\n",
    "                    # pick random shifts in x and y\n",
    "                    #dx = random.uniform(-max_shift, max_shift)\n",
    "                    #dy = random.uniform(-max_shift, max_shift)\n",
    "\n",
    "                    dx = 2\n",
    "                    dy = 2\n",
    "\n",
    "                    # affine transform matrix for translation: (1, 0, dx, 0, 1, dy)\n",
    "                    translated = img.transform(\n",
    "                        (width, height),\n",
    "                        Image.AFFINE,\n",
    "                        (1, 0, dx, 0, 1, dy),\n",
    "                        resample=Image.BILINEAR\n",
    "                    )\n",
    "\n",
    "                    # save augmented image\n",
    "                    out_name = f\"{name}_trans{i+1}{ext}\"\n",
    "                    translated.save(os.path.join(dir, out_name))\n",
    "\n",
    "        except Exception as e:\n",
    "            print(f\"Error translating {input_path}: {e}\")"
   ]
  },
  {
   "cell_type": "code",
   "execution_count": 6,
   "metadata": {},
   "outputs": [],
   "source": [
    "def brightAug(dir, pct=1, max_change = 0.5, iters = 1):\n",
    "    all_files = [f for f in os.listdir(dir)\n",
    "                if f.lower().endswith(('.png', '.jpg', '.jpeg', '.bmp', '.gif'))]\n",
    "    \n",
    "    num_files = math.ceil(len(all_files) * pct)\n",
    "    files = random.sample(all_files, num_files)\n",
    "\n",
    "    for fname in files:\n",
    "        name, ext = os.path.splitext(fname)\n",
    "        input_path = os.path.join(dir, fname)\n",
    "        try:\n",
    "            with Image.open(input_path) as img:\n",
    "                for i in range(iters):\n",
    "                    enhancer = ImageEnhance.Brightness(img)\n",
    "                    factor = random.uniform(1 - max_change, 1 + max_change)\n",
    "                    brightened_img = enhancer.enhance(factor)\n",
    "                    brightened_img.save(os.path.join(dir, f\"{name}_bright{i+1}{ext}\"))\n",
    "\n",
    "        except Exception as e:\n",
    "            print(f\"Error brightening {input_path}: {e}\")"
   ]
  },
  {
   "cell_type": "code",
   "execution_count": 7,
   "metadata": {},
   "outputs": [],
   "source": [
    "def conAug(dir, pct=1, max_change = 0.5, iters = 1):\n",
    "    all_files = [f for f in os.listdir(dir)\n",
    "                if f.lower().endswith(('.png', '.jpg', '.jpeg', '.bmp', '.gif'))]\n",
    "    \n",
    "    num_files = math.ceil(len(all_files) * pct)\n",
    "    files = random.sample(all_files, num_files)\n",
    "    for fname in files:\n",
    "        name, ext = os.path.splitext(fname)\n",
    "        input_path = os.path.join(dir, fname)\n",
    "        try:\n",
    "            with Image.open(input_path) as img:\n",
    "                for i in range(iters):\n",
    "                    enhancer = ImageEnhance.Contrast(img)\n",
    "                    factor = random.uniform(1 - max_change, 1 + max_change)\n",
    "                    contrasted_img = enhancer.enhance(factor)\n",
    "                    contrasted_img.save(os.path.join(dir, f\"{name}_con{i+1}{ext}\"))\n",
    "\n",
    "        except Exception as e:\n",
    "            print(f\"Error adjusting contrast for {input_path}: {e}\")"
   ]
  },
  {
   "cell_type": "code",
   "execution_count": 3,
   "metadata": {},
   "outputs": [],
   "source": [
    "happy = 'all_data/happy'\n",
    "neutral = 'all_data/neutral'\n",
    "angry = 'all_data/angry'\n",
    "sad = 'all_data/sad'\n",
    "surprise = 'all_data/surprise'\n",
    "ahegao = 'all_data/ahegao'\n",
    "fear = 'all_data/fear'\n",
    "disgust = 'all_data/disgust'"
   ]
  },
  {
   "cell_type": "code",
   "execution_count": null,
   "metadata": {},
   "outputs": [],
   "source": [
    "#disgust: ~500 -> ~13k\n",
    "rotAug(disgust, max_angle=30, iters=3)\n",
    "conAug(disgust, max_change=0.5, iters=2)\n",
    "brightAug(disgust, max_change=0.5, iters=1)"
   ]
  },
  {
   "cell_type": "code",
   "execution_count": 15,
   "metadata": {},
   "outputs": [],
   "source": [
    "#Ahegao: ~1200 -> ~13k\n",
    "rotAug(ahegao, max_angle=25, iters=2)\n",
    "conAug(ahegao, pct=0.9, max_change=0.5, iters=1)\n",
    "brightAug(ahegao, max_change=0.5, iters=1)"
   ]
  },
  {
   "cell_type": "code",
   "execution_count": 16,
   "metadata": {},
   "outputs": [],
   "source": [
    "#Angry: ~6k -> 13k\n",
    "rotAug(angry, max_angle=20, iters=1)\n",
    "conAug(angry, pct=0.05, max_change=0.5, iters=1)"
   ]
  },
  {
   "cell_type": "code",
   "execution_count": 17,
   "metadata": {},
   "outputs": [],
   "source": [
    "#Fear: ~5k -> ~13k\n",
    "rotAug(fear, max_angle=25, iters=1)\n",
    "conAug(fear, pct=0.29, max_change=0.5, iters=1)"
   ]
  },
  {
   "cell_type": "code",
   "execution_count": 19,
   "metadata": {},
   "outputs": [],
   "source": [
    "#Happy: ~12.7k -> ~13k\n",
    "rotAug(happy, pct=0.06, max_angle=15, iters=1)"
   ]
  },
  {
   "cell_type": "code",
   "execution_count": null,
   "metadata": {},
   "outputs": [],
   "source": [
    "#Neutral: ~8k -> ~13k\n",
    "rotAug(neutral, pct=0.5, max_angle=20, iters=1)\n",
    "conAug(neutral, pct=0.05, max_change=0.5, iters=1)\n",
    "brightAug(neutral, pct=0.06, max_change=15, iters=1)"
   ]
  },
  {
   "cell_type": "code",
   "execution_count": 20,
   "metadata": {},
   "outputs": [],
   "source": [
    "#Sad: ~5k -> ~13k\n",
    "rotAug(sad, max_angle=20, iters=1)\n",
    "conAug(sad, pct=0.29, max_change=0.5, iters=1)"
   ]
  },
  {
   "cell_type": "code",
   "execution_count": null,
   "metadata": {},
   "outputs": [],
   "source": [
    "#Surprise: ~2k -> ~13k\n",
    "rotAug(surprise, max_angle=30, iters=2)\n",
    "conAug(surprise, pct=0.5, max_change=0.5, iters=1)\n",
    "brightAug(surprise, pct=0.05, max_change=0.5, iters=1)\n",
    "rotAug(surprise, pct=0.73, max_angle=30, iters=1)"
   ]
  },
  {
   "cell_type": "code",
   "execution_count": null,
   "metadata": {},
   "outputs": [],
   "source": [
    "transAug(happy, pct=0.1346, max_shift=4, iters=1)\n",
    "transAug(neutral, pct=0.1953, max_shift=4, iters=1)\n",
    "transAug(angry, pct=0.1652, max_shift=4, iters=1)\n",
    "transAug(sad, pct=0.15, max_shift=4, iters=1)\n",
    "transAug(surprise, pct=0, max_shift=4, iters=1)\n",
    "transAug(ahegao, pct=0.1137, max_shift=4, iters=1)\n",
    "transAug(fear, pct=0.1648, max_shift=4, iters=1)\n",
    "transAug(disgust, pct=0.1655, max_shift=4, iters=1)"
   ]
  },
  {
   "cell_type": "code",
   "execution_count": null,
   "metadata": {},
   "outputs": [],
   "source": [
    "flipAug(happy)\n",
    "flipAug(neutral)\n",
    "flipAug(angry)\n",
    "flipAug(sad)\n",
    "flipAug(surprise)\n",
    "flipAug(ahegao)\n",
    "flipAug(fear)\n",
    "flipAug(disgust)"
   ]
  }
 ],
 "metadata": {
  "kernelspec": {
   "display_name": "venv",
   "language": "python",
   "name": "python3"
  },
  "language_info": {
   "codemirror_mode": {
    "name": "ipython",
    "version": 3
   },
   "file_extension": ".py",
   "mimetype": "text/x-python",
   "name": "python",
   "nbconvert_exporter": "python",
   "pygments_lexer": "ipython3",
   "version": "3.12.10"
  }
 },
 "nbformat": 4,
 "nbformat_minor": 2
}
